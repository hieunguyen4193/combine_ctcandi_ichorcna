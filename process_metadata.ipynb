{
 "cells": [
  {
   "cell_type": "markdown",
   "metadata": {},
   "source": [
    "# Metadata for new spike in data and data request ctCandi calculation"
   ]
  },
  {
   "cell_type": "markdown",
   "metadata": {},
   "source": [
    "## 22.01.2025"
   ]
  },
  {
   "cell_type": "code",
   "execution_count": 1,
   "metadata": {},
   "outputs": [],
   "source": [
    "import pandas as pd \n",
    "import os \n",
    "import pathlib\n",
    "\n",
    "path_to_metadata = \"./metadata\"\n",
    "\n",
    "path_to_save_output = os.path.join(path_to_metadata, \"processed_metadata_20250122\")\n",
    "os.system(f\"mkdir -p {path_to_save_output}\")\n",
    "\n",
    "old_gw_metadata = pd.read_csv(os.path.join(path_to_metadata, \"SPIKE_IN_metadata\", \"metadata_Spike_in_silico_GW_samples_from_tissue_highdepth_15112024_bosung.csv\"))\n",
    "new_gw_metadata = pd.read_csv(os.path.join(path_to_metadata, \"SPIKE_IN_metadata\", \"metadata_Spike_in_silico_GW_samples_from_tissue_highdepth_15112024.csv\"))\n",
    "\n",
    "old_tm_metadata = pd.read_csv(os.path.join(path_to_metadata, \"SPIKE_IN_metadata\", \"metadata_Spike_in_silico_TMD_samples_from_tissue_highdepth_07102024.csv\"))\n",
    "new_tm_metadata = pd.read_csv(os.path.join(path_to_metadata, \"SPIKE_IN_metadata\", \"metadata_Spike_in_silico_TMD_samples_from_tissue_highdepth_07102024_bosung.csv\"))\n",
    "\n",
    "gw_metadata = pd.concat([old_gw_metadata, new_gw_metadata], axis=0)\n",
    "tm_metadata = pd.concat([old_tm_metadata, new_tm_metadata], axis=0)\n",
    "tm_metadata_original = tm_metadata.copy()\n",
    "\n",
    "hanh_metadata = pd.read_excel(os.path.join(path_to_metadata, \"request_data_metadata\", \"metadata_comutation.xlsx\"))\n",
    "hanh_metadata.columns = [\"SampleID\", \"TM_BAM\"]\n",
    "\n",
    "vi_metadata = pd.read_excel(os.path.join(path_to_metadata, \"request_data_metadata\", \"Request_data_ctCandi_region_11.01.25.xlsx\"))\n",
    "vi_metadata.columns = [\"SampleID\", \"TM_BAM\"]\n",
    "\n",
    "new_spike_in_tm_data = tm_metadata[[\"SampleID\", \"Bam_file\"]]\n",
    "new_spike_in_tm_data.columns = [\"SampleID\", \"TM_BAM\"]\n",
    "\n",
    "new_spike_in_tm_data.to_csv(os.path.join(path_to_save_output, \"new_spike_in_data.csv\"), index=False)\n",
    "vi_metadata.to_csv(os.path.join(path_to_save_output, \"vi_metadata.csv\"), index=False)\n",
    "hanh_metadata.to_csv(os.path.join(path_to_save_output, \"hanh_metadata.csv\"), index=False)\n",
    "\n",
    "tm_metadata = tm_metadata[tm_metadata[\"SampleID\"].isin(gw_metadata[\"SampleID\"].unique())][[\"SampleID\", \"Spike_in_label\", \"Spike_in_ratio\"]]\n",
    "tm_metadata = tm_metadata.merge(gw_metadata[[\"SampleID\", \"ichorCNA\"]], right_on = \"SampleID\", left_on = \"SampleID\")\n",
    "# tm_metadata.columns = [\"SampleID\", \"Label\", \"spike_in_ratio\", \"ichorCNA\"]\n",
    "tm_metadata.to_csv(\"./metadata/SPIKE_IN_20250122.csv\")\n",
    "\n",
    "vi_metadata[\"group\"] = \"Vi_request\"\n",
    "hanh_metadata[\"group\"] = \"Hanh_request\""
   ]
  },
  {
   "cell_type": "code",
   "execution_count": 2,
   "metadata": {},
   "outputs": [],
   "source": [
    "vi_metadata[[\"SampleID\", \"group\"]].to_csv(\"./metadata/ctCandi_20250122_Vi.csv\")\n",
    "hanh_metadata[[\"SampleID\", \"group\"]].to_csv(\"./metadata/ctCandi_20250122_Hanh.csv\")"
   ]
  },
  {
   "cell_type": "code",
   "execution_count": 3,
   "metadata": {},
   "outputs": [],
   "source": [
    "background_tm = tm_metadata_original[[\"Raw_SampleID\", \"Raw_bam\"]]\n",
    "background_tm = background_tm[background_tm[\"Raw_bam\"].duplicated() == False]\n",
    "background_tm.columns = [\"SampleID\", \"TM_BAM\"]\n",
    "background_tm.to_csv(\"/media/hieunguyen/HNSD01/src/combine_ctcandi_ichorcna/metadata/processed_metadata_20250122/background_TM.csv\", index = False)\n",
    "background_gw = pd.read_csv(os.path.join(\"/media/hieunguyen/HNSD01/src/combine_ctcandi_ichorcna/metadata/SPIKE_IN_metadata/metadata_Spike_in_silico_background_GW_samples_15112024.csv\"))\n",
    "background_tm = background_tm.merge(background_gw, right_on = \"Sample\", left_on = \"SampleID\")\n",
    "background_tm[\"Spike_in_label\"] = \"Control\"\n",
    "background_tm[\"Spike_in_ratio\"] = 0\n",
    "background_tm = background_tm[[\"SampleID\", \"Spike_in_label\", \"Spike_in_ratio\", \"ichorCNA\"]]\n",
    "background_tm.to_csv(\"/media/hieunguyen/HNSD01/src/combine_ctcandi_ichorcna/metadata/BACKGROUND.csv\")"
   ]
  }
 ],
 "metadata": {
  "kernelspec": {
   "display_name": "pytorch",
   "language": "python",
   "name": "python3"
  },
  "language_info": {
   "codemirror_mode": {
    "name": "ipython",
    "version": 3
   },
   "file_extension": ".py",
   "mimetype": "text/x-python",
   "name": "python",
   "nbconvert_exporter": "python",
   "pygments_lexer": "ipython3",
   "version": "3.9.19"
  }
 },
 "nbformat": 4,
 "nbformat_minor": 2
}
