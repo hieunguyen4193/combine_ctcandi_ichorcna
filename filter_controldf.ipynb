{
 "cells": [
  {
   "cell_type": "code",
   "execution_count": null,
   "metadata": {},
   "outputs": [
    {
     "data": {
      "text/plain": [
       "0.0001886512108065"
      ]
     },
     "execution_count": 5,
     "metadata": {},
     "output_type": "execute_result"
    }
   ],
   "source": [
    "import pandas as pd\n",
    "import numpy as np\n",
    "import pathlib \n",
    "import os\n",
    "import matplotlib.pyplot as plt\n",
    "import seaborn as sns\n",
    "import random\n",
    "from tqdm import tqdm\n",
    "import warnings\n",
    "import pandas as pd\n",
    "import argparse\n",
    "import pickle\n",
    "from sklearn.linear_model import LinearRegression\n",
    "from sklearn.model_selection import train_test_split\n",
    "from sklearn.metrics import mean_squared_error, r2_score\n",
    "from sklearn.linear_model import Ridge, Lasso, ElasticNet\n",
    "from sklearn.model_selection import GridSearchCV\n",
    "from sklearn.metrics import roc_curve, auc\n",
    "\n",
    "from dataset_paths import *\n",
    "\n",
    "warnings.filterwarnings('ignore')\n",
    "\n",
    "output_version = \"20241229\"\n",
    "outdir = \"/media/hieunguyen/HNSD_mini/outdir\"\n",
    "dataset_name = \"SPIKE_IN\"\n",
    "mode = \"all\"\n",
    "PROJECT = \"combine_ctcandi_ichorcna\"\n",
    "\n",
    "for input_cancer_class in [\"Liver\", \"Lung\", \"Breast\", \"CRC\", \"pan_cancer\"]:\n",
    "    for selected_candi_features in [\"ratio_raw\", \"ratio_in_read\"]:\n",
    "        input_features = [\"ichorCNA\", selected_candi_features] \n",
    "\n",
    "        path_to_main_output = os.path.join(outdir, PROJECT, output_version, dataset_name)\n",
    "        path_to_07_output = os.path.join(path_to_main_output, f\"07_output_{mode}\", input_cancer_class)\n",
    "        path_to_08_output = os.path.join(path_to_main_output, f\"08_output_{mode}\", input_cancer_class)\n",
    "        path_to_10_output = os.path.join(path_to_main_output, f\"10_output_{mode}\", input_cancer_class, f\"feature_{selected_candi_features}\")\n",
    "        path_to_save_models = os.path.join(path_to_10_output, \"model_files\")\n",
    "        os.system(f\"mkdir -p {path_to_10_output}\")\n",
    "        os.system(f\"mkdir -p {path_to_save_models}\")\n",
    "\n",
    "        fulldf = pd.read_csv(os.path.join(path_to_08_output, \"feature.csv\"), index_col = [0])\n",
    "\n",
    "        if input_cancer_class == \"pan_cancer\":\n",
    "            fulldf[\"Label\"] = fulldf[\"Label\"].apply(lambda x: \"pan_cancer\" if x != \"Control\" else \"Control\")\n",
    "        else:\n",
    "            fulldf = fulldf[fulldf[\"Label\"].isin([\"Control\", input_cancer_class])]\n",
    "            \n",
    "        controldf = pd.read_csv(os.path.join(outdir, PROJECT, output_version, \"CONTROL\",\n",
    "                                                    f\"08_output_{mode}\", input_cancer_class, \"feature.csv\"), index_col = [0])\n",
    "\n",
    "        median_feat = controldf[selected_candi_features].median()\n",
    "        controldf = controldf[controldf[selected_candi_features] > median_feat]\n",
    "        controldf.to_csv(os.path.join(outdir, PROJECT, output_version, \"CONTROL\",\n",
    "                                                    f\"08_output_{mode}\", input_cancer_class, \"feature_filter50.csv\"))"
   ]
  }
 ],
 "metadata": {
  "kernelspec": {
   "display_name": "pytorch",
   "language": "python",
   "name": "python3"
  },
  "language_info": {
   "codemirror_mode": {
    "name": "ipython",
    "version": 3
   },
   "file_extension": ".py",
   "mimetype": "text/x-python",
   "name": "python",
   "nbconvert_exporter": "python",
   "pygments_lexer": "ipython3",
   "version": "3.9.19"
  }
 },
 "nbformat": 4,
 "nbformat_minor": 2
}
