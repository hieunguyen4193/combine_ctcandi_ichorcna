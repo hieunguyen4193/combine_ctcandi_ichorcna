{
 "cells": [
  {
   "cell_type": "code",
   "execution_count": null,
   "metadata": {},
   "outputs": [],
   "source": [
    "import pandas as pd\n",
    "import numpy as np\n",
    "import pathlib \n",
    "import os\n",
    "import matplotlib.pyplot as plt\n",
    "import seaborn as sns\n",
    "import random\n",
    "from tqdm import tqdm\n",
    "import warnings\n",
    "import pandas as pd\n",
    "import argparse\n",
    "\n",
    "from dataset_paths import *\n",
    "\n",
    "warnings.filterwarnings('ignore')\n",
    "\n",
    "PROJECT = \"combine_ctcandi_ichorcna\"\n",
    "thres_hypo = 0.3\n",
    "thres_hyper = 0.6\n",
    "\n",
    "output_version = \"20241229\";\n",
    "outdir = \"/media/hieunguyen/HNSD_mini/outdir\";\n",
    "\n",
    "for mode in [\"all\", \"hypo\", \"hyper\"]:\n",
    "    if mode == \"all\":\n",
    "        path_to_03_output = os.path.join(outdir, PROJECT, output_version, \"03_output\")\n",
    "    elif mode == \"hypo\":\n",
    "        path_to_03_output = os.path.join(outdir, PROJECT, output_version, \"03_output_all_hypo\")\n",
    "    elif mode == \"hyper\":\n",
    "        path_to_03_output = os.path.join(outdir, PROJECT, output_version, \"03_output_all_hyper\")\n",
    "    else: \n",
    "        raise ValueError(\"mode must be either all, hypo or hyper\")\n",
    "\n",
    "    all_countDMP_results = [item for item in pathlib.Path(path_to_03_output).glob(\"*/countDMPs.xlsx\")]\n",
    "    # remove gastric results, not statistically significant\n",
    "    all_countDMP_results = [item for item in all_countDMP_results if \"Gastric\" not in str(item)]\n",
    "\n",
    "    testdf = pd.DataFrame()\n",
    "\n",
    "    for item in all_countDMP_results:\n",
    "        tmpdf = pd.read_excel(item)\n",
    "        tmpdf[\"Label\"] = str(item).split(\"/\")[-2]\n",
    "        testdf = pd.concat([testdf, tmpdf], axis = 0)\n",
    "    print(\"Number of TMD450 regions that have been tested by TCGA data: {}\".format(testdf.shape[0]))\n",
    "    if \"hyper\" not in testdf.columns:\n",
    "        testdf[\"hyper\"] = 0\n",
    "    if \"hypo\" not in testdf.columns:\n",
    "        testdf[\"hypo\"] = 0\n",
    "\n",
    "    testdf[\"hypo_or_hyper\"] = testdf[[\"hyper\", \"hypo\"]].apply(lambda x: \"hyper\" if x[0] > x[1] else \"hypo\", axis = 1)\n",
    "    testdf[\"region_combiname\"] = testdf[[\"Var1\", \"hypo_or_hyper\"]].apply(lambda x: f\"{x[0]}_{x[1]}\", axis = 1)\n",
    "    os.system(f\"mkdir -p {path_to_03_output}/pan_cancer\")\n",
    "    testdf.to_excel(os.path.join(path_to_03_output, \"pan_cancer\", \"countDMPs.xlsx\"), index = False)"
   ]
  },
  {
   "cell_type": "code",
   "execution_count": 2,
   "metadata": {},
   "outputs": [],
   "source": [
    "import pandas as pd\n",
    "df = pd.read_excel(\"/media/hieunguyen/HNSD01/src/combine_ctcandi_ichorcna/metadata/REPORT4.xlsx\")\n",
    "df.to_csv(\"/media/hieunguyen/HNSD01/src/combine_ctcandi_ichorcna/metadata/REPORT4.csv\")"
   ]
  }
 ],
 "metadata": {
  "kernelspec": {
   "display_name": "pytorch",
   "language": "python",
   "name": "python3"
  },
  "language_info": {
   "codemirror_mode": {
    "name": "ipython",
    "version": 3
   },
   "file_extension": ".py",
   "mimetype": "text/x-python",
   "name": "python",
   "nbconvert_exporter": "python",
   "pygments_lexer": "ipython3",
   "version": "3.9.19"
  }
 },
 "nbformat": 4,
 "nbformat_minor": 2
}
