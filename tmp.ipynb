{
 "cells": [
  {
   "cell_type": "code",
   "execution_count": 6,
   "metadata": {},
   "outputs": [],
   "source": [
    "import pandas as pd \n",
    "\n",
    "\n",
    "metadata_with_ichorCNA = pd.read_csv(\"/home/hieunguyen/Downloads/summary_tumor_fraction 5.csv\")\n",
    "metadata = pd.read_csv(\"/media/hieunguyen/HNSD01/src/combine_ctcandi_ichorcna/metadata/Truong_new_reqest_20250321.old.csv\")\n",
    "\n",
    "metadata = metadata.merge(metadata_with_ichorCNA, right_on = \"SampleID\", left_on = \"SampleID\")\n",
    "\n",
    "metadata.to_csv(\"/media/hieunguyen/HNSD01/src/combine_ctcandi_ichorcna/metadata/Truong_new_reqest_20250321.csv\")"
   ]
  }
 ],
 "metadata": {
  "kernelspec": {
   "display_name": "pytorch",
   "language": "python",
   "name": "python3"
  },
  "language_info": {
   "codemirror_mode": {
    "name": "ipython",
    "version": 3
   },
   "file_extension": ".py",
   "mimetype": "text/x-python",
   "name": "python",
   "nbconvert_exporter": "python",
   "pygments_lexer": "ipython3",
   "version": "3.9.19"
  }
 },
 "nbformat": 4,
 "nbformat_minor": 2
}
